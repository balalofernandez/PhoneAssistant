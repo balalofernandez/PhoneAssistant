{
 "cells": [
  {
   "cell_type": "code",
   "execution_count": 1,
   "metadata": {},
   "outputs": [],
   "source": [
    "# Use a pipeline as a high-level helper\n",
    "from transformers import pipeline\n",
    "from transformers import AutoModelForSequenceClassification, TrainingArguments, Trainer,AutoTokenizer,AutoModelForTokenClassification\n",
    "import torch"
   ]
  },
  {
   "cell_type": "code",
   "execution_count": 2,
   "metadata": {},
   "outputs": [
    {
     "name": "stdout",
     "output_type": "stream",
     "text": [
      "All entities {0: 'I-PER', 1: 'I-LOC', 2: 'B-ORG', 3: 'I-ORG', 4: 'I-MISC', 5: 'B-MISC', 6: 'O', 7: 'B-PER', 8: 'B-LOC'}\n"
     ]
    }
   ],
   "source": [
    "#NER model:\n",
    "ner_model_name = \"MMG/xlm-roberta-large-ner-spanish\"\n",
    "pipe = pipeline(\"token-classification\", model=ner_model_name)\n",
    "print(\"All entities\",pipe.model.config.id2label)\n",
    "#My model:\n",
    "path_file = \"./intent_model/checkpoint-200/\"\n",
    "tokenizer = AutoTokenizer.from_pretrained(path_file, local_files_only=True)\n",
    "model = AutoModelForSequenceClassification.from_pretrained(path_file, local_files_only=True)"
   ]
  },
  {
   "cell_type": "code",
   "execution_count": 7,
   "metadata": {},
   "outputs": [
    {
     "name": "stdout",
     "output_type": "stream",
     "text": [
      "PODRÍA HABLAR CON ÁLVARO FERNANDEZ EN MADRID\n",
      "direct\n",
      "[{'entity': 'B-PER', 'score': 0.98939604, 'index': 8, 'word': '▁Á', 'start': 18, 'end': 19}, {'entity': 'B-PER', 'score': 0.9034359, 'index': 9, 'word': 'LV', 'start': 19, 'end': 21}, {'entity': 'I-PER', 'score': 0.6410767, 'index': 10, 'word': 'ARO', 'start': 21, 'end': 24}, {'entity': 'I-PER', 'score': 0.9967969, 'index': 11, 'word': '▁F', 'start': 25, 'end': 26}, {'entity': 'I-PER', 'score': 0.99545825, 'index': 12, 'word': 'ERN', 'start': 26, 'end': 29}, {'entity': 'I-PER', 'score': 0.9946143, 'index': 13, 'word': 'ANDE', 'start': 29, 'end': 33}, {'entity': 'I-PER', 'score': 0.9887057, 'index': 14, 'word': 'Z', 'start': 33, 'end': 34}, {'entity': 'B-LOC', 'score': 0.98277605, 'index': 16, 'word': '▁MAD', 'start': 38, 'end': 41}, {'entity': 'I-LOC', 'score': 0.90644956, 'index': 17, 'word': 'RID', 'start': 41, 'end': 44}]\n"
     ]
    }
   ],
   "source": [
    "text = \"Podría hablar con álvaro fernandez en madrid\".upper()\n",
    "print(text)\n",
    "inputs = tokenizer(text, return_tensors=\"pt\")\n",
    "with torch.no_grad():\n",
    "    logits = model(**inputs).logits\n",
    "predicted_class_id = logits.argmax().item()\n",
    "predicted_label = model.config.id2label[predicted_class_id]\n",
    "print(predicted_label)\n",
    "if(predicted_label == \"direct\"):\n",
    "    entities = pipe(text)\n",
    "    print(entities)"
   ]
  }
 ],
 "metadata": {
  "kernelspec": {
   "display_name": "kaggle",
   "language": "python",
   "name": "python3"
  },
  "language_info": {
   "codemirror_mode": {
    "name": "ipython",
    "version": 3
   },
   "file_extension": ".py",
   "mimetype": "text/x-python",
   "name": "python",
   "nbconvert_exporter": "python",
   "pygments_lexer": "ipython3",
   "version": "3.11.5"
  }
 },
 "nbformat": 4,
 "nbformat_minor": 2
}
